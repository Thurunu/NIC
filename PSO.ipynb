{
 "cells": [
  {
   "cell_type": "code",
   "execution_count": 1,
   "id": "6b8de02c-b466-46bc-b6e8-901099a33ee1",
   "metadata": {},
   "outputs": [],
   "source": [
    "import numpy as np\n",
    "\n",
    "import matplotlib.pyplot as plt"
   ]
  },
  {
   "cell_type": "code",
   "execution_count": 7,
   "id": "fcbc2247-cdf5-4d81-92ba-13823d34a323",
   "metadata": {},
   "outputs": [],
   "source": [
    "# Define customer locations (latitude, longitude) and their demand\n",
    "\n",
    "customers = np.array([\n",
    "\n",
    "    (40.7128, -74.0060, 100),  # New York\n",
    "\n",
    "    (34.0522, -118.2437, 80),  # Los Angeles\n",
    "\n",
    "    (41.8781, -87.6298, 70),   # Chicago\n",
    "\n",
    "    (29.7604, -95.3698, 60),   # Houston\n",
    "\n",
    "    (33.7490, -84.3880, 50),   # Atlanta\n",
    "\n",
    "    (39.9526, -75.1652, 40),   # Philadelphia\n",
    "\n",
    "    (42.3601, -71.0589, 30),   # Boston\n",
    "\n",
    "    (47.6062, -122.3321, 20),  # Seattle\n",
    "\n",
    "    (32.7157, -117.1611, 10),  # San Diego\n",
    "\n",
    "])"
   ]
  },
  {
   "cell_type": "code",
   "execution_count": 8,
   "id": "f1c31653-9ea0-4286-b4f7-dfc50349a0d8",
   "metadata": {},
   "outputs": [],
   "source": [
    "def haversine_distance(lat1, lon1, lat2, lon2):\n",
    "\n",
    "    \"\"\"Calculate the great circle distance between two points on the earth\"\"\"\n",
    "\n",
    "    R = 6371  # Earth radius in kilometers\n",
    "\n",
    "\n",
    "\n",
    "    lat1, lon1, lat2, lon2 = map(np.radians, [lat1, lon1, lat2, lon2])\n",
    "\n",
    "    dlat = lat2 - lat1\n",
    "\n",
    "    dlon = lon2 - lon1\n",
    "\n",
    "\n",
    "\n",
    "    a = np.sin(dlat/2)**2 + np.cos(lat1) * np.cos(lat2) * np.sin(dlon/2)**2\n",
    "\n",
    "    c = 2 * np.arcsin(np.sqrt(a))\n",
    "\n",
    "    return R * c\n",
    "\n"
   ]
  },
  {
   "cell_type": "code",
   "execution_count": 9,
   "id": "c6ae6c57-994e-4ada-923e-557092a8967f",
   "metadata": {},
   "outputs": [],
   "source": [
    "def objective_function(positions):\n",
    "\n",
    "    \"\"\"\n",
    "\n",
    "    Calculate total weighted distance from distribution centers to customers.\n",
    "\n",
    "    positions: array of shape (n_centers, 2) for latitude and longitude of each center\n",
    "\n",
    "    \"\"\"\n",
    "\n",
    "    total_cost = 0\n",
    "\n",
    "    for customer in customers:\n",
    "\n",
    "        distances = haversine_distance(positions[:, 0], positions[:, 1], customer[0], customer[1])\n",
    "\n",
    "        nearest_center_distance = np.min(distances)\n",
    "\n",
    "        total_cost += nearest_center_distance * customer[2]  # distance * demand\n",
    "\n",
    "    return total_cost"
   ]
  },
  {
   "cell_type": "code",
   "execution_count": 10,
   "id": "36824aad-9587-48bc-9643-106b55c428ff",
   "metadata": {},
   "outputs": [],
   "source": [
    "class Particle:\n",
    "\n",
    "    def __init__(self, bounds, n_centers):\n",
    "\n",
    "        self.position = np.random.uniform(low=bounds[:, 0], high=bounds[:, 1], size=(n_centers, 2))\n",
    "\n",
    "        self.velocity = np.zeros_like(self.position)\n",
    "\n",
    "        self.best_position = np.copy(self.position)\n",
    "\n",
    "        self.best_score = float('inf')\n",
    "\n",
    "\n",
    "\n",
    "def particle_swarm_optimization(objective, bounds, n_centers, num_particles, num_iterations):\n",
    "\n",
    "    particles = [Particle(bounds, n_centers) for _ in range(num_particles)]\n",
    "\n",
    "    global_best_position = np.zeros((n_centers, 2))\n",
    "\n",
    "    global_best_score = float('inf')\n",
    "\n",
    "\n",
    "\n",
    "    w = 0.5  # inertia weight\n",
    "\n",
    "    c1 = 1   # cognitive parameter\n",
    "\n",
    "    c2 = 2   # social parameter\n",
    "\n",
    "\n",
    "\n",
    "    for _ in range(num_iterations):\n",
    "\n",
    "        for particle in particles:\n",
    "\n",
    "            score = objective(particle.position)\n",
    "\n",
    "            if score < particle.best_score:\n",
    "\n",
    "                particle.best_score = score\n",
    "\n",
    "                particle.best_position = particle.position\n",
    "\n",
    "            if score < global_best_score:\n",
    "\n",
    "                global_best_score = score\n",
    "\n",
    "                global_best_position = particle.position\n",
    "\n",
    "\n",
    "\n",
    "        for particle in particles:\n",
    "\n",
    "            r1, r2 = np.random.rand(2)\n",
    "\n",
    "            particle.velocity = (w * particle.velocity + \n",
    "\n",
    "                                 c1 * r1 * (particle.best_position - particle.position) + \n",
    "\n",
    "                                 c2 * r2 * (global_best_position - particle.position))\n",
    "\n",
    "            particle.position = np.clip(particle.position + particle.velocity, bounds[:, 0], bounds[:, 1])\n",
    "\n",
    "\n",
    "\n",
    "    return global_best_position, global_best_score\n",
    "\n"
   ]
  },
  {
   "cell_type": "code",
   "execution_count": 11,
   "id": "5bc7b180-22e6-4133-aead-589ca9bc7f85",
   "metadata": {},
   "outputs": [],
   "source": [
    "# Set up the optimization problem\n",
    "\n",
    "bounds = np.array([[25, 50], [-125, -65]])  # Latitude and Longitude bounds for USA\n",
    "\n",
    "n_centers = 3  # Number of distribution centers to optimize\n",
    "\n",
    "num_particles = 50\n",
    "\n",
    "num_iterations = 200"
   ]
  },
  {
   "cell_type": "code",
   "execution_count": 12,
   "id": "5de11a8d-baa9-46a0-92e5-2178143857ec",
   "metadata": {},
   "outputs": [],
   "source": [
    "# Run PSO\n",
    "\n",
    "best_positions, best_score = particle_swarm_optimization(objective_function, bounds, n_centers, num_particles, num_iterations)"
   ]
  },
  {
   "cell_type": "code",
   "execution_count": 13,
   "id": "ebd4286e-23fb-4d45-b2b2-4f5fcdd238bb",
   "metadata": {},
   "outputs": [
    {
     "name": "stdout",
     "output_type": "stream",
     "text": [
      "Optimal distribution center locations:\n",
      "Center 1: Latitude 34.0505, Longitude -118.2501\n",
      "Center 2: Latitude 36.1173, Longitude -88.8646\n",
      "Center 3: Latitude 40.7128, Longitude -74.0060\n",
      "Total weighted distance cost: 172730.41\n"
     ]
    }
   ],
   "source": [
    "print(f\"Optimal distribution center locations:\")\n",
    "\n",
    "for i, pos in enumerate(best_positions):\n",
    "\n",
    "    print(f\"Center {i+1}: Latitude {pos[0]:.4f}, Longitude {pos[1]:.4f}\")\n",
    "\n",
    "print(f\"Total weighted distance cost: {best_score:.2f}\")"
   ]
  },
  {
   "cell_type": "code",
   "execution_count": 14,
   "id": "ea738b85-a782-4142-8f03-aff7cb6921e5",
   "metadata": {},
   "outputs": [
    {
     "data": {
      "image/png": "[encoded data removed]",
      "text/plain": [
       "<Figure size 1200x800 with 1 Axes>"
      ]
     },
     "metadata": {},
     "output_type": "display_data"
    }
   ],
   "source": [
    "# Visualize the result\n",
    "\n",
    "plt.figure(figsize=(12, 8))\n",
    "\n",
    "plt.scatter(customers[:, 1], customers[:, 0], c='blue', s=customers[:, 2], alpha=0.6, label='Customers')\n",
    "\n",
    "plt.scatter(best_positions[:, 1], best_positions[:, 0], c='red', s=100, marker='*', label='Distribution Centers')\n",
    "\n",
    "plt.title('Optimal Distribution Center Locations')\n",
    "\n",
    "plt.xlabel('Longitude')\n",
    "\n",
    "plt.ylabel('Latitude')\n",
    "\n",
    "plt.legend()\n",
    "\n",
    "plt.grid(True)\n",
    "\n",
    "plt.show()"
   ]
  },
  {
   "cell_type": "code",
   "execution_count": null,
   "id": "08227b72-6bf5-42bc-a0f8-7f47bb189a64",
   "metadata": {},
   "outputs": [],
   "source": []
  },
  {
   "cell_type": "code",
   "execution_count": null,
   "id": "bc7e5544-5616-461b-b993-0b83cb29e51b",
   "metadata": {},
   "outputs": [],
   "source": []
  },
  {
   "cell_type": "code",
   "execution_count": null,
   "id": "168be28a-5c26-4234-bca4-1376a197f521",
   "metadata": {},
   "outputs": [],
   "source": []
  },
  {
   "cell_type": "code",
   "execution_count": null,
   "id": "515af765-0cba-440d-917d-bb48cbc5c44c",
   "metadata": {},
   "outputs": [],
   "source": []
  },
  {
   "cell_type": "code",
   "execution_count": null,
   "id": "51e4f628-e812-4579-b9ff-583f088a14ef",
   "metadata": {},
   "outputs": [],
   "source": []
  },
  {
   "cell_type": "code",
   "execution_count": null,
   "id": "2332edb7-3a23-49f1-b837-4f4b8a368a50",
   "metadata": {},
   "outputs": [],
   "source": []
  },
  {
   "cell_type": "code",
   "execution_count": null,
   "id": "70802f6d-9faa-44b5-bf69-c23819c27332",
   "metadata": {},
   "outputs": [],
   "source": []
  },
  {
   "cell_type": "code",
   "execution_count": null,
   "id": "514df707-8377-4529-85e6-c7da29b95355",
   "metadata": {},
   "outputs": [],
   "source": []
  },
  {
   "cell_type": "code",
   "execution_count": null,
   "id": "567c6d2e-b790-407b-8b01-c5529101eb2d",
   "metadata": {},
   "outputs": [],
   "source": []
  }
 ],
 "metadata": {
  "kernelspec": {
   "display_name": "Python 3 (ipykernel)",
   "language": "python",
   "name": "python3"
  },
  "language_info": {
   "codemirror_mode": {
    "name": "ipython",
    "version": 3
   },
   "file_extension": ".py",
   "mimetype": "text/x-python",
   "name": "python",
   "nbconvert_exporter": "python",
   "pygments_lexer": "ipython3",
   "version": "3.12.4"
  }
 },
 "nbformat": 4,
 "nbformat_minor": 5
}
