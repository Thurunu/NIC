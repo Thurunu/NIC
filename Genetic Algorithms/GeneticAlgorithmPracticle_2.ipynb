{
 "cells": [
  {
   "cell_type": "code",
   "execution_count": 6,
   "id": "b3952b2e-c98e-42d8-b614-8140ae15662c",
   "metadata": {},
   "outputs": [],
   "source": [
    "# problem\n",
    "#f(x) = 3x1 + 2x2 + 4x3 + 2x4 + 5x5 = 100"
   ]
  },
  {
   "cell_type": "code",
   "execution_count": 1,
   "id": "1b8e6017-7322-4ae5-ad78-70060d51ac2b",
   "metadata": {},
   "outputs": [],
   "source": [
    "import numpy as np\n",
    "import random\n",
    "from collections import Counter"
   ]
  },
  {
   "cell_type": "code",
   "execution_count": 18,
   "id": "d3b3424f-919e-4ae1-a7c9-09e29fb20862",
   "metadata": {},
   "outputs": [
    {
     "name": "stdout",
     "output_type": "stream",
     "text": [
      "Population:\n",
      " [[2, 1, 8, 6, 1], [4, 2, 4, 3, 7], [8, 3, 1, 3, 1], [3, 1, 0, 5, 1], [3, 8, 3, 6, 4]]\n",
      "Best population after 10: \n",
      " [[4, 2, 1, 3, 1], [2, 1, 8, 6, 7], [3, 6, 4, 6, 4], [6, 8, 3, 3, 3], [8, 9, 1, 3, 7]]\n",
      "\n",
      "Best solution after 10 generations:\n",
      "Best Chromosome: [2, 1, 8, 6, 7] with Fitness: 87\n"
     ]
    }
   ],
   "source": [
    "best_solution, best_fitness = genetic_algorithm(\n",
    "    population_size=5,\n",
    "    num_genes=5,\n",
    "    num_parents=3,\n",
    "    mutation_rate=0.1,\n",
    "    num_generetions=10,\n",
    "    cross_over_rate = 0.45\n",
    ")"
   ]
  },
  {
   "cell_type": "code",
   "execution_count": 13,
   "id": "dd52c59e-1a11-4dfc-9e41-a18c5e2272c2",
   "metadata": {},
   "outputs": [],
   "source": [
    "def genetic_algorithm(population_size, num_genes, num_parents, mutation_rate, num_generetions, cross_over_rate):\n",
    "    population = generate_population(num_genes, population_size)\n",
    "    y = 0\n",
    "    for generation in range(num_generetions):\n",
    "        fitness_scores = objective_function(population)\n",
    "        best_chromosome = population[fitness_scores.index(max(fitness_scores))]\n",
    "        fitness_scores = fitness_function(fitness_scores)\n",
    "        probability_score = probability_of_fitness(fitness_scores)\n",
    "        cumulative_score = cumulative_probability(probability_score)\n",
    "        parents = selection(cumulative_score, num_parents, population, cross_over_rate, population_size)\n",
    "        # Step 4: Apply crossover to generate new offspring\n",
    "        offspring = []\n",
    "        unique_parents = list(set(tuple(parent) for parent in parents))\n",
    "        unique_parents = [list(parent) for parent in unique_parents]\n",
    "       \n",
    "        for i in range(0, len(unique_parents), 2):\n",
    "            parent1 = unique_parents[i]\n",
    "            parent2 = unique_parents[(i + 1) % len(unique_parents)]  # Loop back if odd number of parents\n",
    "            mutation1, mutation2 = mutations_generate(parent1, parent2)\n",
    "            offspring.append(mutation1)\n",
    "            offspring.append(mutation2)\n",
    "\n",
    "        for x in unique_parents:\n",
    "            population.remove(x)\n",
    "        \n",
    " # Step 5: Apply mutation to the offspring\n",
    "        mutated_offspring = [mutation(child, mutation_rate) for child in offspring]\n",
    "        # Step 6: Replace the population with the new generation (mutated offspring)\n",
    "        for i in mutated_offspring:\n",
    "            if(len(population) < population_size):\n",
    "                population.append(i)\n",
    "\n",
    "        y += 1\n",
    "        final_fitness_scores = objective_function(population)\n",
    "        if 95 < max(final_fitness_scores) <= 100:\n",
    "            break\n",
    "\n",
    "\n",
    "    # Final result: Return the best solution found after all generations\n",
    "    \n",
    "    best_fitness = max(final_fitness_scores)\n",
    "    best_chromosome = population[final_fitness_scores.index(best_fitness)]\n",
    "    print(f\"Best population after {y}: \\n {population}\")\n",
    "    print(f\"\\nBest solution after {y} generations:\")\n",
    "    print(f\"Best Chromosome: {best_chromosome} with Fitness: {best_fitness}\")\n",
    "\n",
    "    return best_chromosome, best_fitness\n",
    "        \n"
   ]
  },
  {
   "cell_type": "code",
   "execution_count": 3,
   "id": "7e4faeee-c712-4af3-8f4a-ef640a34bf7c",
   "metadata": {},
   "outputs": [],
   "source": [
    "def generate_population(num_of_genes, num_of_individuals):\n",
    "    population = []\n",
    "    for i in range(num_of_individuals):\n",
    "        chrmosome = random.choices(range(0, 9), k=5)\n",
    "        population.append(chrmosome)\n",
    "    print('Population:\\n',population)\n",
    "    return population"
   ]
  },
  {
   "cell_type": "code",
   "execution_count": 4,
   "id": "ae691e76-94ca-4bbf-8f25-d32a1e493430",
   "metadata": {},
   "outputs": [],
   "source": [
    "def objective_function(population):\n",
    "    fitness_score = []\n",
    "    values = [3, 2, 4, 2, 5]\n",
    "    x = 0\n",
    "    for i in range(len(population)):\n",
    "        total = 0\n",
    "        chromosome = population[i]\n",
    "        for j in chromosome:\n",
    "            total = total + values[x]*j\n",
    "            x = x + 1\n",
    "        x = 0\n",
    "        fitness_score.append(total)\n",
    "    return fitness_score"
   ]
  },
  {
   "cell_type": "code",
   "execution_count": 5,
   "id": "a09794a5-1e4d-459e-9ce5-b48834b2dff3",
   "metadata": {},
   "outputs": [],
   "source": [
    "def fitness_function(objective_total):\n",
    "    fitness_score = []\n",
    "    for i in objective_total:\n",
    "        fitness_score.append(1/(i + 1))\n",
    "    return fitness_score"
   ]
  },
  {
   "cell_type": "code",
   "execution_count": 6,
   "id": "ac5b3be6-96d9-491b-b592-d7861c519548",
   "metadata": {},
   "outputs": [],
   "source": [
    "def probability_of_fitness(fitness_score):\n",
    "    total_fitness = sum(fitness_score)\n",
    "    # print(\"Total fitness:\", total_fitness)\n",
    "    probability_score = []\n",
    "    for i in fitness_score:\n",
    "        probability_score.append(i/total_fitness)\n",
    "    return probability_score"
   ]
  },
  {
   "cell_type": "code",
   "execution_count": 7,
   "id": "43d97948-f8c6-469f-8ab6-a0040146a070",
   "metadata": {},
   "outputs": [],
   "source": [
    "def cumulative_probability(probability_score):\n",
    "    cumulative_score = []\n",
    "    cumulative_total = 0\n",
    "    for i in probability_score:\n",
    "        cumulative_total = cumulative_total + i\n",
    "        cumulative_score.append(cumulative_total)\n",
    "    return cumulative_score"
   ]
  },
  {
   "cell_type": "code",
   "execution_count": 8,
   "id": "ffcb8e7b-82d6-463a-8f07-17a84aa746d8",
   "metadata": {},
   "outputs": [],
   "source": [
    "def random_number_generate(cross_over_rate):\n",
    "    random_numbers = []\n",
    "    num = [random.uniform(0, 1) for _ in range(5)]\n",
    "    for _ in range(5):\n",
    "        num = random.uniform(0, 1)\n",
    "        if(num <= cross_over_rate):\n",
    "            random_numbers.append(num)\n",
    "    return random_numbers"
   ]
  },
  {
   "cell_type": "code",
   "execution_count": 9,
   "id": "7a55590e-c115-4db0-abb9-d43b175b8613",
   "metadata": {},
   "outputs": [],
   "source": [
    "from collections import Counter\n",
    "\n",
    "def selection(cumulative_score, num_parents, population, cross_over_rate, size):\n",
    "    selected = []\n",
    "    random_numbers = random_number_generate(cross_over_rate)\n",
    "    \n",
    "    # Select parents based on cumulative scores and random numbers\n",
    "    for _ in range(num_parents):\n",
    "        first = 0.0\n",
    "        for i in range(len(cumulative_score)):\n",
    "            second = cumulative_score[i]\n",
    "            for j in range(len(random_numbers)):\n",
    "                if first < random_numbers[j] < second:\n",
    "                    selected.append(population[cumulative_score.index(second)])\n",
    "            first = cumulative_score[i]\n",
    "    \n",
    "    # Count occurrences of each sublist in selected\n",
    "    counts = Counter(tuple(sublist) for sublist in selected)\n",
    "    \n",
    "    # Sort sublists by occurrence count in descending order\n",
    "    sorted_selected = sorted(counts.items(), key=lambda x: x[1], reverse=True)\n",
    "\n",
    "    updated_population = list(population)\n",
    "    population = []\n",
    "\n",
    "    # Fill population with the top sublists based on occurrence count\n",
    "    for sublist, count in sorted_selected[:size]:\n",
    "        # print(\"Sublist:\", sublist, \" count:\", count)\n",
    "        sublist_as_tuple = tuple(sublist)  # Use tuple for consistent comparison\n",
    "        if sublist_as_tuple in updated_population:  # Check if the sublist exists\n",
    "            updated_population.remove(sublist_as_tuple)  # Remove if exists\n",
    "        \n",
    "        for _ in range(count):\n",
    "            if len(population) < size:\n",
    "                population.append(list(sublist))  # Append the list version of the sublist\n",
    "\n",
    "\n",
    "    # Fill remaining slots from updated_population if needed\n",
    "    while len(population) < size and updated_population:\n",
    "        x = updated_population.pop(0)  # Pop the first element safely\n",
    "        population.append(x)  # Append it to population\n",
    "\n",
    "    # print(\"Final Population: \", population)\n",
    "    # print(\"Remaining from updated_population: \", len(updated_population))\n",
    "\n",
    "    return population[:size]  # Ensure we only return up to 5 elements\n"
   ]
  },
  {
   "cell_type": "code",
   "execution_count": 10,
   "id": "97d87b15-dd13-4ab8-aaaf-ce7ce808c9bb",
   "metadata": {},
   "outputs": [],
   "source": [
    "def mutations_generate(parent1, parent2):\n",
    "    # Ensure that the crossover index stays within the bounds of the chromosome length\n",
    "    crossover_index = random.randint(1, len(parent1) - 1)  # Make sure it's not 0 or the full length\n",
    "    # print(f\"Random Crossover Index: {crossover_index}\")\n",
    "  \n",
    "    # Perform the crossover, ensuring both offspring have the same length as parents\n",
    "    parent1_front = parent1[:crossover_index]\n",
    "    parent1_back = parent1[crossover_index:]\n",
    "    parent2_front = parent2[:crossover_index]\n",
    "    parent2_back = parent2[crossover_index:]\n",
    "    \n",
    "    # Combine the parts to form two new offspring\n",
    "    mutation1 = parent1_front + parent2_back\n",
    "    mutation2 = parent2_front + parent1_back\n",
    "\n",
    "    # Make sure both offspring have the same length as parents\n",
    "    if len(mutation1) != len(parent1):\n",
    "        print(\"Error: Length mismatch in mutation1\")\n",
    "    if len(mutation2) != len(parent2):\n",
    "        print(\"Error: Length mismatch in mutation2\")\n",
    "\n",
    "    # print(mutation1, mutation2)\n",
    "\n",
    "    return mutation1, mutation2\n",
    "\n",
    "\n",
    "    "
   ]
  },
  {
   "cell_type": "code",
   "execution_count": 11,
   "id": "a32932c2-ffb9-4bf5-a7c4-7fdf75367c6e",
   "metadata": {},
   "outputs": [],
   "source": [
    "def mutation(chromosome, mutation_rate=0.01):\n",
    "    # Loop through each gene in the chromosome\n",
    "    for i in range(len(chromosome)):\n",
    "        # With a probability equal to mutation_rate, flip the gene\n",
    "        if random.random() < mutation_rate:\n",
    "            chromosome[i] = random.randint(0, 9)  # Randomly change the gene\n",
    "    return chromosome\n"
   ]
  },
  {
   "cell_type": "code",
   "execution_count": null,
   "id": "b9ee77d7-6da8-4a95-b4da-a2ecb587d9ce",
   "metadata": {},
   "outputs": [],
   "source": []
  },
  {
   "cell_type": "code",
   "execution_count": null,
   "id": "d18ecc7f-9635-4516-a5a1-b3ad1ce0f20a",
   "metadata": {},
   "outputs": [],
   "source": []
  }
 ],
 "metadata": {
  "kernelspec": {
   "display_name": "Python 3 (ipykernel)",
   "language": "python",
   "name": "python3"
  },
  "language_info": {
   "codemirror_mode": {
    "name": "ipython",
    "version": 3
   },
   "file_extension": ".py",
   "mimetype": "text/x-python",
   "name": "python",
   "nbconvert_exporter": "python",
   "pygments_lexer": "ipython3",
   "version": "3.12.4"
  }
 },
 "nbformat": 4,
 "nbformat_minor": 5
}
