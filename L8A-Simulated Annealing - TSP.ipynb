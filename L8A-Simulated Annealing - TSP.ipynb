{
 "cells": [
  {
   "cell_type": "code",
   "execution_count": 1,
   "id": "b2dc1422-73f8-4b08-ad1e-9de18153ade1",
   "metadata": {},
   "outputs": [],
   "source": [
    "import numpy as np\n",
    "import random\n",
    "import math"
   ]
  },
  {
   "cell_type": "code",
   "execution_count": 2,
   "id": "ebdaff86-466e-463d-9ccd-c04be03b1264",
   "metadata": {},
   "outputs": [],
   "source": [
    "# Distance matrix (in km) for Colombo, Kandy, Nuwara Eliya, Galle, Jaffna\n",
    "distances = np.array([\n",
    "    [0, 115, 180, 120, 396],  # Colombo\n",
    "    [115, 0, 75, 80, 380],    # Kandy\n",
    "    [180, 75, 0, 140, 435],   # Nuwara Eliya\n",
    "    [120, 80, 140, 0, 340],   # Galle\n",
    "    [396, 380, 435, 340, 0]   # Jaffna\n",
    "])"
   ]
  },
  {
   "cell_type": "code",
   "execution_count": 4,
   "id": "5b6e3141-d60d-49fc-a176-045c208bcfa5",
   "metadata": {},
   "outputs": [],
   "source": [
    "def total_distance(path):\n",
    "    return sum(distances[path[i], path[i+1]] for i in range(len(path) - 1)) + distances[path[-1], path[0]]"
   ]
  },
  {
   "cell_type": "code",
   "execution_count": 16,
   "id": "9b482e87-d7be-46b9-9df9-0091dc24d27a",
   "metadata": {},
   "outputs": [],
   "source": [
    "def simulated_annealing(city_names):\n",
    "    num_cities = len(distances)\n",
    "    current_path = list(range(num_cities))\n",
    "    random.shuffle(current_path)\n",
    "    current_distance = total_distance(current_path)\n",
    "    \n",
    "    T = 10000  # Initial temperature\n",
    "    T_min = 1  # Minimum temperature\n",
    "    alpha = 0.995  # Cooling rate\n",
    "    \n",
    "    best_path = current_path[:]\n",
    "    best_distance = current_distance\n",
    "    \n",
    "    while T > T_min:\n",
    "        new_path = current_path[:]\n",
    "        i, j = random.sample(range(num_cities), 2)\n",
    "        new_path[i], new_path[j] = new_path[j], new_path[i]\n",
    "        \n",
    "        new_distance = total_distance(new_path)\n",
    "        \n",
    "        if new_distance < best_distance:\n",
    "            best_path = new_path[:]\n",
    "            best_distance = new_distance\n",
    "        \n",
    "        delta_distance = new_distance - current_distance\n",
    "        if delta_distance < 0 or random.random() < math.exp(-delta_distance / T):\n",
    "            current_path = new_path[:]\n",
    "            current_distance = new_distance\n",
    "        \n",
    "        T *= alpha\n",
    "    best_path_names = [city_names[i] for i in best_path]\n",
    "    print(\"Optimal path:\", \" -> \".join(best_path_names))\n",
    "    print(\"Total distance:\", best_distance)\n",
    "    \n",
    "    "
   ]
  },
  {
   "cell_type": "code",
   "execution_count": 21,
   "id": "bda85018-ffb5-440a-8ab4-6908a6eec8b5",
   "metadata": {},
   "outputs": [
    {
     "name": "stdout",
     "output_type": "stream",
     "text": [
      "Optimal path: Nuwara Eliya -> Kandy -> Galle -> Colombo -> Jaffna\n",
      "Total distance: 1066\n"
     ]
    }
   ],
   "source": [
    "city = ['Galle', 'Kandy', 'Nuwara Eliya', 'Jaffna', 'Colombo']\n",
    "simulated_annealing(city)"
   ]
  },
  {
   "cell_type": "code",
   "execution_count": 11,
   "id": "82907805-2f4e-41a3-9d90-7ce881fc1373",
   "metadata": {},
   "outputs": [],
   "source": []
  },
  {
   "cell_type": "code",
   "execution_count": null,
   "id": "cb4a3cc9-42c6-45ba-ba92-d3eacfa3edfb",
   "metadata": {},
   "outputs": [],
   "source": []
  }
 ],
 "metadata": {
  "kernelspec": {
   "display_name": "Python 3 (ipykernel)",
   "language": "python",
   "name": "python3"
  },
  "language_info": {
   "codemirror_mode": {
    "name": "ipython",
    "version": 3
   },
   "file_extension": ".py",
   "mimetype": "text/x-python",
   "name": "python",
   "nbconvert_exporter": "python",
   "pygments_lexer": "ipython3",
   "version": "3.12.4"
  }
 },
 "nbformat": 4,
 "nbformat_minor": 5
}
