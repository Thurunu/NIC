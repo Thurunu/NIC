{
 "cells": [
  {
   "cell_type": "code",
   "execution_count": 1,
   "metadata": {
    "id": "Dh5wnd9Sc3qJ"
   },
   "outputs": [],
   "source": [
    "from numpy import asarray, exp\n",
    "from numpy.random import randn, rand, seed\n",
    "from matplotlib import pyplot"
   ]
  },
  {
   "cell_type": "code",
   "execution_count": 2,
   "metadata": {
    "id": "uHVVQx8Xc3qL"
   },
   "outputs": [],
   "source": [
    "# Define objective function\n",
    "# y=x**2\n",
    "def objective(step):\n",
    "    return step[0] ** 2.0"
   ]
  },
  {
   "cell_type": "code",
   "execution_count": 3,
   "metadata": {
    "colab": {
     "base_uri": "https://localhost:8080/"
    },
    "id": "tzIOIqTdc3qM",
    "outputId": "a650cad6-ffa8-4820-a62c-70934facbb4a"
   },
   "outputs": [
    {
     "data": {
      "text/plain": [
       "array([[-6.,  6.]])"
      ]
     },
     "execution_count": 3,
     "metadata": {},
     "output_type": "execute_result"
    }
   ],
   "source": [
    "seed(1)\n",
    "# search space\n",
    "area = asarray([[-6.0, 6.0]])\n",
    "area"
   ]
  },
  {
   "cell_type": "code",
   "execution_count": 4,
   "metadata": {
    "colab": {
     "base_uri": "https://localhost:8080/"
    },
    "id": "9R2TlwSrc3qM",
    "outputId": "f9955bbc-994e-48c8-92aa-1fbb227c2f89"
   },
   "outputs": [
    {
     "data": {
      "text/plain": [
       "array([6.])"
      ]
     },
     "execution_count": 4,
     "metadata": {},
     "output_type": "execute_result"
    }
   ],
   "source": [
    "area[:, 1]"
   ]
  },
  {
   "cell_type": "code",
   "execution_count": 5,
   "metadata": {
    "colab": {
     "base_uri": "https://localhost:8080/"
    },
    "id": "NkgeB3tBc3qN",
    "outputId": "7da452a5-8379-4acd-ad54-9ea3845c43a7"
   },
   "outputs": [
    {
     "data": {
      "text/plain": [
       "1"
      ]
     },
     "execution_count": 5,
     "metadata": {},
     "output_type": "execute_result"
    }
   ],
   "source": [
    " len( area )"
   ]
  },
  {
   "cell_type": "code",
   "execution_count": 6,
   "metadata": {
    "colab": {
     "base_uri": "https://localhost:8080/"
    },
    "id": "ZJh83Ztxc3qN",
    "outputId": "f35cabcc-9d9a-41be-997c-2cd487cb8d4e"
   },
   "outputs": [
    {
     "data": {
      "text/plain": [
       "array([0.417022])"
      ]
     },
     "execution_count": 6,
     "metadata": {},
     "output_type": "execute_result"
    }
   ],
   "source": [
    "rand( len( area ))"
   ]
  },
  {
   "cell_type": "code",
   "execution_count": 7,
   "metadata": {
    "colab": {
     "base_uri": "https://localhost:8080/"
    },
    "id": "DpkApTARc3qN",
    "outputId": "4ef1088a-2074-4196-a0d0-a0473115054b"
   },
   "outputs": [
    {
     "data": {
      "text/plain": [
       "array([-5.27967551])"
      ]
     },
     "execution_count": 7,
     "metadata": {},
     "output_type": "execute_result"
    }
   ],
   "source": [
    "ans=area[:, 0] + rand( len( area ) )\n",
    "ans"
   ]
  },
  {
   "cell_type": "code",
   "execution_count": 8,
   "metadata": {
    "colab": {
     "base_uri": "https://localhost:8080/"
    },
    "id": "_53-X5hlc3qN",
    "outputId": "65b765e3-3e97-4a5f-ca06-cdfa0ade9f16"
   },
   "outputs": [
    {
     "data": {
      "text/plain": [
       "array([6.])"
      ]
     },
     "execution_count": 8,
     "metadata": {},
     "output_type": "execute_result"
    }
   ],
   "source": [
    "area[:, 1]"
   ]
  },
  {
   "cell_type": "code",
   "execution_count": 9,
   "metadata": {
    "colab": {
     "base_uri": "https://localhost:8080/"
    },
    "id": "AOAfMVLQc3qO",
    "outputId": "106f8910-1a45-4fad-9522-e283fedbdbbe"
   },
   "outputs": [
    {
     "data": {
      "text/plain": [
       "array([12.])"
      ]
     },
     "execution_count": 9,
     "metadata": {},
     "output_type": "execute_result"
    }
   ],
   "source": [
    " area[:, 1] - area[:, 0]"
   ]
  },
  {
   "cell_type": "code",
   "execution_count": 10,
   "metadata": {
    "id": "bUB0L1c1c3qO",
    "outputId": "08edd964-2e25-4cc0-d8f9-17533cca9709"
   },
   "outputs": [
    {
     "name": "stdout",
     "output_type": "stream",
     "text": [
      "[-0.99573594]\n",
      "start_point= [-0.99573594]\n",
      "objective function evaluation of start point= 0.99\n"
     ]
    }
   ],
   "source": [
    "seed(1) # By using seed(1) same random numbers will get generated each time the code cell is run,\n",
    "area = asarray([[-6.0, 6.0]]) # exploration search space scope\n",
    "\n",
    "start_point = area[:, 0] + rand( len( area ) ) * ( area[:, 1] - area[:, 0] )\n",
    "print(start_point)\n",
    "print('start_point=', start_point)\n",
    "# negative values are resolved with getting the squaring\n",
    "start_point_eval = objective(start_point)\n",
    "print('objective function evaluation of start point=',round(start_point_eval,2))"
   ]
  },
  {
   "cell_type": "code",
   "execution_count": 11,
   "metadata": {
    "id": "murvh6Kdc3qO"
   },
   "outputs": [],
   "source": [
    "# all afore-discussed steps have been implemented here as one function.\n",
    "# step size is the rate of change.\n",
    "#Providing a very large value is not good, as it leads to drastic changes causing to loost global optimizations\n",
    "def sa(objective, area = ([[-6.0,6.0]]), n_iterations = 1200, step_size = 0.1, temperature = 12):\n",
    "    # Generating a random start point for the search hunt\n",
    "    start_point = area[:, 0] + rand( len( area ) ) * ( area[:, 1] - area[:, 0] )\n",
    "    # Evaluating the start_point\n",
    "    start_point_eval = objective(start_point)"
   ]
  },
  {
   "cell_type": "code",
   "execution_count": 12,
   "metadata": {
    "id": "7e07Fk1ic3qO"
   },
   "outputs": [],
   "source": [
    "# Storing the start point and its objective function evaluation into mia_start_point and mia_start_eval.\n",
    "mia_start_point, mia_start_eval = start_point, start_point_eval\n",
    "\n",
    "# this empty list will get updated over time once looping starts.\n",
    "outputs = []"
   ]
  },
  {
   "cell_type": "markdown",
   "metadata": {
    "id": "X8lOQ1jlc3qO"
   },
   "source": [
    "# Above is set-wise elaboration of the Simulated annealing algorithm statements.\n",
    "\n",
    "# Below is the combined logic integrated into the Simulated annealing as one algorithm"
   ]
  },
  {
   "cell_type": "code",
   "execution_count": 13,
   "metadata": {
    "id": "bdPQY89Rc3qP"
   },
   "outputs": [],
   "source": [
    "# Define simulated annealing algorithm as a one single consolidated function\n",
    "def sa(objective, area, iterations, step_size, temperature):\n",
    "    # create initial point for the commencement to  the student Mia.\n",
    "    start_point = area[:, 0] + rand( len( area ) ) * ( area[:, 1] - area[:, 0] )\n",
    "    # evaluate initial point\n",
    "    start_point_eval = objective(start_point)\n",
    "\n",
    "    # Assign previous and new solution to previous and new_point_eval variable\n",
    "    mia_start_point, mia_start_eval = start_point, start_point_eval\n",
    "    outputs = []\n",
    "    for i in range(iterations):\n",
    "        # First step by mia\n",
    "        mia_step = mia_start_point + randn( len( area ) ) * step_size\n",
    "        mia_step_eval = objective(mia_step)\n",
    "        # this suits for a minimization problem. Re-assign the variables with the minimum values generated\n",
    "        if mia_step_eval < start_point_eval:\n",
    "            start_point, start_point_eval = mia_step, mia_step_eval\n",
    "      #Append the new values into the output list\n",
    "            outputs.append(start_point_eval)\n",
    "            print('Metropolis Criteria = %.5f' % metropolis,\" \",'iteration Number = ',i,\" \", 'best_so_far = ',start_point,\" \"\n",
    "                  ,'new_best = %.5f' % start_point_eval)\n",
    "\n",
    "        # derive the delta of current_step and starting_step\n",
    "        difference = mia_step_eval - mia_start_eval\n",
    "        t = temperature / float(i + 1)\n",
    "        # calculate Metropolis Acceptance Criterion / Acceptance Probability\n",
    "        metropolis = exp(-difference / t)\n",
    "        # check whether the new point is acceptable -Metropolis is greater than the random, accept the new point, else\n",
    "        # continue with the same old point.\n",
    "        if difference < 0 or rand() < metropolis:\n",
    "            mia_start_point, mia_start_eval = mia_step, mia_step_eval\n",
    "    return [start_point, start_point_eval, outputs]\n"
   ]
  },
  {
   "cell_type": "code",
   "execution_count": 16,
   "metadata": {
    "id": "6oEnhdZ0c3qQ",
    "outputId": "e0e53655-4171-44e1-a581-d67b0fca0fac"
   },
   "outputs": [
    {
     "name": "stdout",
     "output_type": "stream",
     "text": [
      "Metropolis Criteria = 0.76232   iteration Number =  37   best_so_far =  [-0.95340594]   new_best = 0.90898\n",
      "Metropolis Criteria = 0.87733   iteration Number =  39   best_so_far =  [-0.91563305]   new_best = 0.83838\n",
      "Metropolis Criteria = 1.44710   iteration Number =  40   best_so_far =  [-0.85680363]   new_best = 0.73411\n",
      "Metropolis Criteria = 1.42798   iteration Number =  41   best_so_far =  [-0.8221177]   new_best = 0.67588\n",
      "Metropolis Criteria = 1.22608   iteration Number =  42   best_so_far =  [-0.68541443]   new_best = 0.46979\n",
      "Metropolis Criteria = 2.09273   iteration Number =  43   best_so_far =  [-0.61804282]   new_best = 0.38198\n",
      "Metropolis Criteria = 1.16478   iteration Number =  50   best_so_far =  [-0.42564785]   new_best = 0.18118\n",
      "Metropolis Criteria = 0.81414   iteration Number =  66   best_so_far =  [-0.35632231]   new_best = 0.12697\n",
      "Metropolis Criteria = 1.74595   iteration Number =  67   best_so_far =  [-0.33780667]   new_best = 0.11411\n",
      "Metropolis Criteria = 1.02155   iteration Number =  72   best_so_far =  [-0.3368772]   new_best = 0.11349\n",
      "Metropolis Criteria = 1.20897   iteration Number =  75   best_so_far =  [-0.29671621]   new_best = 0.08804\n",
      "Metropolis Criteria = 1.47133   iteration Number =  88   best_so_far =  [-0.29346186]   new_best = 0.08612\n",
      "Metropolis Criteria = 1.78859   iteration Number =  89   best_so_far =  [-0.2525718]   new_best = 0.06379\n",
      "Metropolis Criteria = 0.29369   iteration Number =  93   best_so_far =  [-0.20893326]   new_best = 0.04365\n",
      "Metropolis Criteria = 1.68933   iteration Number =  94   best_so_far =  [-0.12724854]   new_best = 0.01619\n",
      "Metropolis Criteria = 1.24284   iteration Number =  95   best_so_far =  [-0.00883141]   new_best = 0.00008\n",
      "Metropolis Criteria = 0.99774   iteration Number =  102   best_so_far =  [0.00581387]   new_best = 0.00003\n",
      "Metropolis Criteria = 1.05301   iteration Number =  118   best_so_far =  [0.00137051]   new_best = 0.00000\n",
      "Metropolis Criteria = 0.99611   iteration Number =  138   best_so_far =  [0.0009528]   new_best = 0.00000\n",
      "Metropolis Criteria = 1.33458   iteration Number =  158   best_so_far =  [-0.00047896]   new_best = 0.00000\n",
      "Metropolis Criteria = 0.50157   iteration Number =  473   best_so_far =  [0.00045742]   new_best = 0.00000\n",
      "Metropolis Criteria = 1.02387   iteration Number =  482   best_so_far =  [0.00010925]   new_best = 0.00000\n"
     ]
    },
    {
     "data": {
      "image/png": "[encoded data removed]",
      "text/plain": [
       "<Figure size 640x480 with 1 Axes>"
      ]
     },
     "metadata": {},
     "output_type": "display_data"
    }
   ],
   "source": [
    "seed(1)\n",
    "# define the area of the search space\n",
    "area = asarray([[-6.0, 6.0]])\n",
    "# initial temperature\n",
    "temperature = 12\n",
    "# define the total no. of iterations\n",
    "iterations = 1200\n",
    "# define maximum step_size\n",
    "step_size = 0.1\n",
    "# perform the simulated annealing search - Passing the params for the method call\n",
    "start_point, output, outputs = sa(objective, area, iterations, step_size, temperature)\n",
    "#plotting the values. -ro option is to depict the points clearly.\n",
    "pyplot.plot(outputs, 'ro-')\n",
    "pyplot.xlabel('Improvement Value')\n",
    "pyplot.ylabel('Evaluation of Objective Function')\n",
    "pyplot.show()"
   ]
  },
  {
   "cell_type": "markdown",
   "metadata": {
    "id": "pmSxO2NFc3qQ"
   },
   "source": [
    "So this output shows us, in which iteration the improvement happened, the previous best point, and the new best point. The graph shows that there are about 22 improvements ( red circle ) as the algorithm reaches the global optima. There are certain places where there are no big improvements but as the algorithm reaches the end there are many improvements."
   ]
  },
  {
   "cell_type": "code",
   "execution_count": null,
   "metadata": {
    "id": "stdUDynoc3qQ"
   },
   "outputs": [],
   "source": []
  }
 ],
 "metadata": {
  "colab": {
   "provenance": []
  },
  "kernelspec": {
   "display_name": "Python 3 (ipykernel)",
   "language": "python",
   "name": "python3"
  },
  "language_info": {
   "codemirror_mode": {
    "name": "ipython",
    "version": 3
   },
   "file_extension": ".py",
   "mimetype": "text/x-python",
   "name": "python",
   "nbconvert_exporter": "python",
   "pygments_lexer": "ipython3",
   "version": "3.12.4"
  }
 },
 "nbformat": 4,
 "nbformat_minor": 4
}
